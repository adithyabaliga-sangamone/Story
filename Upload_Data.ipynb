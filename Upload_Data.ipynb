{
  "nbformat": 4,
  "nbformat_minor": 0,
  "metadata": {
    "colab": {
      "name": "Upload Data.ipynb",
      "provenance": [],
      "authorship_tag": "ABX9TyM9btLpbp1JVyfCviH/jx8L",
      "include_colab_link": true
    },
    "kernelspec": {
      "name": "python3",
      "display_name": "Python 3"
    },
    "language_info": {
      "name": "python"
    }
  },
  "cells": [
    {
      "cell_type": "markdown",
      "metadata": {
        "id": "view-in-github",
        "colab_type": "text"
      },
      "source": [
        "<a href=\"https://colab.research.google.com/github/adithyabaliga-sangamone/Story/blob/main/Upload_Data.ipynb\" target=\"_parent\"><img src=\"https://colab.research.google.com/assets/colab-badge.svg\" alt=\"Open In Colab\"/></a>"
      ]
    },
    {
      "cell_type": "code",
      "metadata": {
        "colab": {
          "base_uri": "https://localhost:8080/"
        },
        "id": "WDtnedWc1u-p",
        "outputId": "57582707-c32f-4aaa-9013-93f97e36b4b7"
      },
      "source": [
        "!wget https://raw.githubusercontent.com/datapackage-examples/sample-csv/master/sample.csv"
      ],
      "execution_count": 3,
      "outputs": [
        {
          "output_type": "stream",
          "text": [
            "--2021-06-14 09:32:24--  https://raw.githubusercontent.com/datapackage-examples/sample-csv/master/sample.csv\n",
            "Resolving raw.githubusercontent.com (raw.githubusercontent.com)... 185.199.109.133, 185.199.110.133, 185.199.111.133, ...\n",
            "Connecting to raw.githubusercontent.com (raw.githubusercontent.com)|185.199.109.133|:443... connected.\n",
            "HTTP request sent, awaiting response... 200 OK\n",
            "Length: 1311 (1.3K) [text/plain]\n",
            "Saving to: ‘sample.csv’\n",
            "\n",
            "\rsample.csv            0%[                    ]       0  --.-KB/s               \rsample.csv          100%[===================>]   1.28K  --.-KB/s    in 0s      \n",
            "\n",
            "2021-06-14 09:32:24 (79.9 MB/s) - ‘sample.csv’ saved [1311/1311]\n",
            "\n"
          ],
          "name": "stdout"
        }
      ]
    },
    {
      "cell_type": "code",
      "metadata": {
        "colab": {
          "base_uri": "https://localhost:8080/"
        },
        "id": "DcHFS0nh3c-H",
        "outputId": "91351f78-9cdf-4fb0-c601-a9cb9170d0e5"
      },
      "source": [
        "!ls"
      ],
      "execution_count": 4,
      "outputs": [
        {
          "output_type": "stream",
          "text": [
            "sample.csv  sample_data\n"
          ],
          "name": "stdout"
        }
      ]
    },
    {
      "cell_type": "code",
      "metadata": {
        "colab": {
          "base_uri": "https://localhost:8080/",
          "height": 206
        },
        "id": "NiWgs5L13tgY",
        "outputId": "7546b33e-b4de-4b58-a9c2-fd185cd2ac95"
      },
      "source": [
        "import pandas as pd\n",
        "pd.read_csv('sample.csv').head()"
      ],
      "execution_count": 6,
      "outputs": [
        {
          "output_type": "execute_result",
          "data": {
            "text/html": [
              "<div>\n",
              "<style scoped>\n",
              "    .dataframe tbody tr th:only-of-type {\n",
              "        vertical-align: middle;\n",
              "    }\n",
              "\n",
              "    .dataframe tbody tr th {\n",
              "        vertical-align: top;\n",
              "    }\n",
              "\n",
              "    .dataframe thead th {\n",
              "        text-align: right;\n",
              "    }\n",
              "</style>\n",
              "<table border=\"1\" class=\"dataframe\">\n",
              "  <thead>\n",
              "    <tr style=\"text-align: right;\">\n",
              "      <th></th>\n",
              "      <th>header 0</th>\n",
              "      <th>header 1</th>\n",
              "      <th>header 2</th>\n",
              "      <th>header 3</th>\n",
              "      <th>header 4</th>\n",
              "      <th>header 5</th>\n",
              "      <th>header 6</th>\n",
              "      <th>header 7</th>\n",
              "      <th>header 8</th>\n",
              "      <th>header 9</th>\n",
              "    </tr>\n",
              "  </thead>\n",
              "  <tbody>\n",
              "    <tr>\n",
              "      <th>0</th>\n",
              "      <td>row 1 col 0</td>\n",
              "      <td>row 1 col 1</td>\n",
              "      <td>row 1 col 2</td>\n",
              "      <td>row 1 col 3</td>\n",
              "      <td>row 1 col 4</td>\n",
              "      <td>row 1 col 5</td>\n",
              "      <td>row 1 col 6</td>\n",
              "      <td>row 1 col 7</td>\n",
              "      <td>row 1 col 8</td>\n",
              "      <td>row 1 col 9</td>\n",
              "    </tr>\n",
              "    <tr>\n",
              "      <th>1</th>\n",
              "      <td>row 2 col 0</td>\n",
              "      <td>row 2 col 1</td>\n",
              "      <td>row 2 col 2</td>\n",
              "      <td>row 2 col 3</td>\n",
              "      <td>row 2 col 4</td>\n",
              "      <td>row 2 col 5</td>\n",
              "      <td>row 2 col 6</td>\n",
              "      <td>row 2 col 7</td>\n",
              "      <td>row 2 col 8</td>\n",
              "      <td>row 2 col 9</td>\n",
              "    </tr>\n",
              "    <tr>\n",
              "      <th>2</th>\n",
              "      <td>row 3 col 0</td>\n",
              "      <td>row 3 col 1</td>\n",
              "      <td>row 3 col 2</td>\n",
              "      <td>row 3 col 3</td>\n",
              "      <td>row 3 col 4</td>\n",
              "      <td>row 3 col 5</td>\n",
              "      <td>row 3 col 6</td>\n",
              "      <td>row 3 col 7</td>\n",
              "      <td>row 3 col 8</td>\n",
              "      <td>row 3 col 9</td>\n",
              "    </tr>\n",
              "    <tr>\n",
              "      <th>3</th>\n",
              "      <td>row 4 col 0</td>\n",
              "      <td>row 4 col 1</td>\n",
              "      <td>row 4 col 2</td>\n",
              "      <td>row 4 col 3</td>\n",
              "      <td>row 4 col 4</td>\n",
              "      <td>row 4 col 5</td>\n",
              "      <td>row 4 col 6</td>\n",
              "      <td>row 4 col 7</td>\n",
              "      <td>row 4 col 8</td>\n",
              "      <td>row 4 col 9</td>\n",
              "    </tr>\n",
              "    <tr>\n",
              "      <th>4</th>\n",
              "      <td>row 5 col 0</td>\n",
              "      <td>row 5 col 1</td>\n",
              "      <td>row 5 col 2</td>\n",
              "      <td>row 5 col 3</td>\n",
              "      <td>row 5 col 4</td>\n",
              "      <td>row 5 col 5</td>\n",
              "      <td>row 5 col 6</td>\n",
              "      <td>row 5 col 7</td>\n",
              "      <td>row 5 col 8</td>\n",
              "      <td>row 5 col 9</td>\n",
              "    </tr>\n",
              "  </tbody>\n",
              "</table>\n",
              "</div>"
            ],
            "text/plain": [
              "      header 0     header 1     header 2  ...     header 7     header 8     header 9\n",
              "0  row 1 col 0  row 1 col 1  row 1 col 2  ...  row 1 col 7  row 1 col 8  row 1 col 9\n",
              "1  row 2 col 0  row 2 col 1  row 2 col 2  ...  row 2 col 7  row 2 col 8  row 2 col 9\n",
              "2  row 3 col 0  row 3 col 1  row 3 col 2  ...  row 3 col 7  row 3 col 8  row 3 col 9\n",
              "3  row 4 col 0  row 4 col 1  row 4 col 2  ...  row 4 col 7  row 4 col 8  row 4 col 9\n",
              "4  row 5 col 0  row 5 col 1  row 5 col 2  ...  row 5 col 7  row 5 col 8  row 5 col 9\n",
              "\n",
              "[5 rows x 10 columns]"
            ]
          },
          "metadata": {
            "tags": []
          },
          "execution_count": 6
        }
      ]
    },
    {
      "cell_type": "markdown",
      "metadata": {
        "id": "4FZ0jXcH7_d8"
      },
      "source": [
        "\n",
        "\n",
        "```\n",
        "# This is formatted as code\n",
        "for items in list:\n",
        "     print(item)\n",
        "```\n",
        "\n",
        "\n"
      ]
    },
    {
      "cell_type": "code",
      "metadata": {
        "id": "aSUT68gE8QkA"
      },
      "source": [
        ""
      ],
      "execution_count": null,
      "outputs": []
    },
    {
      "cell_type": "markdown",
      "metadata": {
        "id": "n7IK6V1S92fl"
      },
      "source": [
        "$$x1=\\frac{-b+\\sqrt{b^2-4ac}}{4ac}$$"
      ]
    },
    {
      "cell_type": "code",
      "metadata": {
        "id": "W-XdBt38_GNL"
      },
      "source": [
        ""
      ],
      "execution_count": null,
      "outputs": []
    }
  ]
}